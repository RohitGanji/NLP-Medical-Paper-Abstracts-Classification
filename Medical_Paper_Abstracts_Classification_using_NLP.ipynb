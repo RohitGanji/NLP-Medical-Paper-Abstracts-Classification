{
  "nbformat": 4,
  "nbformat_minor": 0,
  "metadata": {
    "colab": {
      "name": "Medical Paper Abstracts Classification using NLP.ipynb",
      "provenance": [],
      "collapsed_sections": [],
      "toc_visible": true,
      "authorship_tag": "ABX9TyP/v5CYeIouTuuqCYbshGO7",
      "include_colab_link": true
    },
    "kernelspec": {
      "name": "python3",
      "display_name": "Python 3"
    },
    "language_info": {
      "name": "python"
    },
    "accelerator": "GPU"
  },
  "cells": [
    {
      "cell_type": "markdown",
      "metadata": {
        "id": "view-in-github",
        "colab_type": "text"
      },
      "source": [
        "<a href=\"https://colab.research.google.com/github/RohitGanji/NLP-Medical-Paper-Abstracts-Classification/blob/main/Medical_Paper_Abstracts_Classification_using_NLP.ipynb\" target=\"_parent\"><img src=\"https://colab.research.google.com/assets/colab-badge.svg\" alt=\"Open In Colab\"/></a>"
      ]
    },
    {
      "cell_type": "markdown",
      "metadata": {
        "id": "GTylj_mkoD6R"
      },
      "source": [
        "# Medical Paper Abstracts Classification using NLP\n",
        "\n",
        "This project is an implementation of the paper \"Neural Networks for Joint Sentence Classification in Medical Abstracts\".\n",
        "\n",
        "Paper - https://arxiv.org/pdf/1612.05251.pdf"
      ]
    },
    {
      "cell_type": "markdown",
      "metadata": {
        "id": "ascdX3lAtjLc"
      },
      "source": [
        "## Preparing Data"
      ]
    },
    {
      "cell_type": "markdown",
      "metadata": {
        "id": "zRePV38toVh3"
      },
      "source": [
        "### Downloading Dataset"
      ]
    },
    {
      "cell_type": "code",
      "metadata": {
        "colab": {
          "base_uri": "https://localhost:8080/"
        },
        "id": "AYMCy6V9puiW",
        "outputId": "a9d1b5bb-7e6c-4fc0-80c7-d3903fa9369d"
      },
      "source": [
        "!git clone https://github.com/Franck-Dernoncourt/pubmed-rct.git"
      ],
      "execution_count": null,
      "outputs": [
        {
          "output_type": "stream",
          "text": [
            "Cloning into 'pubmed-rct'...\n",
            "remote: Enumerating objects: 33, done.\u001b[K\n",
            "remote: Counting objects: 100% (3/3), done.\u001b[K\n",
            "remote: Compressing objects: 100% (3/3), done.\u001b[K\n",
            "remote: Total 33 (delta 0), reused 0 (delta 0), pack-reused 30\u001b[K\n",
            "Unpacking objects: 100% (33/33), done.\n"
          ],
          "name": "stdout"
        }
      ]
    },
    {
      "cell_type": "markdown",
      "metadata": {
        "id": "9gjU26uNthV1"
      },
      "source": [
        "### Unzipping train dataset\n",
        "\n",
        "The train data is in zip format. Let's unzip it."
      ]
    },
    {
      "cell_type": "code",
      "metadata": {
        "id": "L2-Srx8ep_Gt",
        "colab": {
          "base_uri": "https://localhost:8080/"
        },
        "outputId": "747d36d9-f55d-423d-f377-9a38de0aad71"
      },
      "source": [
        "!unzip /content/pubmed-rct/PubMed_200k_RCT_numbers_replaced_with_at_sign/train.zip -d /content/pubmed-rct/PubMed_200k_RCT_numbers_replaced_with_at_sign/"
      ],
      "execution_count": null,
      "outputs": [
        {
          "output_type": "stream",
          "text": [
            "Archive:  /content/pubmed-rct/PubMed_200k_RCT_numbers_replaced_with_at_sign/train.zip\n",
            "  inflating: /content/pubmed-rct/PubMed_200k_RCT_numbers_replaced_with_at_sign/train.txt  \n"
          ],
          "name": "stdout"
        }
      ]
    },
    {
      "cell_type": "code",
      "metadata": {
        "id": "UjLYizsTqT6u"
      },
      "source": [
        "DIR = \"pubmed-rct/PubMed_200k_RCT_numbers_replaced_with_at_sign/\""
      ],
      "execution_count": null,
      "outputs": []
    },
    {
      "cell_type": "markdown",
      "metadata": {
        "id": "f_EeRxPUuGDw"
      },
      "source": [
        "### Preprocessing data"
      ]
    },
    {
      "cell_type": "code",
      "metadata": {
        "id": "Cdjy9eN7wELG"
      },
      "source": [
        "def get_lines(filename):\n",
        "  \"\"\"\n",
        "  Reads a filename and returns a list of lines of text\n",
        "\n",
        "  Args:\n",
        "      filename: path of the file\n",
        "\n",
        "  Returns:\n",
        "      A list of strings with one string per line from filename.\n",
        "  \"\"\"\n",
        "  with open(filename) as f:\n",
        "    return f.readlines()"
      ],
      "execution_count": null,
      "outputs": []
    },
    {
      "cell_type": "code",
      "metadata": {
        "id": "NtROyMFjvVR0"
      },
      "source": [
        "def preprocess(filename):\n",
        "  \"\"\" \n",
        "  Returns a list of dictionaries of abstract line data.\n",
        "\n",
        "  Args: \n",
        "      filename: path of the filename (train, test, dev)\n",
        "  Returns:\n",
        "      List of dictionary each containing a line from abstract, the line's label, the line's position in the abstract, and the total number of lines in the dataset where the line is from.\n",
        "  \"\"\"\n",
        "\n",
        "  input_lines = get_lines(filename)\n",
        "  abstract_lines = \"\"\n",
        "  abstract_samples = []\n",
        "\n",
        "  for line in input_lines:\n",
        "    if line.startswith(\"###\"):\n",
        "      abstract_id = line\n",
        "      abstract_lines = \"\"\n",
        "    elif line.isspace():\n",
        "      abstract_line_split = abstract_lines.splitlines()\n",
        "\n",
        "      for abstract_line_number, abstract_line in enumerate(abstract_line_split):\n",
        "        line_data = {}\n",
        "        target_text_split = abstract_line.split(\"\\t\")\n",
        "        line_data[\"target\"] = target_text_split[0]\n",
        "        line_data[\"text\"] = target_text_split[1].lower()\n",
        "        line_data[\"line_number\"] = abstract_line_number\n",
        "        line_data[\"total_lines\"] = len(abstract_line_split) - 1\n",
        "        abstract_samples.append(line_data)\n",
        "\n",
        "    else:\n",
        "      abstract_lines += line\n",
        "  \n",
        "  return abstract_samples"
      ],
      "execution_count": null,
      "outputs": []
    },
    {
      "cell_type": "code",
      "metadata": {
        "id": "PquoZeAtv2Ve"
      },
      "source": [
        "train_samples = preprocess(DIR+\"train.txt\")\n",
        "val_samples = preprocess(DIR+\"dev.txt\")\n",
        "test_samples = preprocess(DIR+\"test.txt\")"
      ],
      "execution_count": null,
      "outputs": []
    },
    {
      "cell_type": "markdown",
      "metadata": {
        "id": "R7DgeoOBv563"
      },
      "source": [
        "### Viewing our data"
      ]
    },
    {
      "cell_type": "code",
      "metadata": {
        "id": "EzEhSR6nyuSz"
      },
      "source": [
        "import pandas as pd\n",
        "\n",
        "train_df = pd.DataFrame(train_samples)\n",
        "val_df = pd.DataFrame(val_samples)\n",
        "test_df = pd.DataFrame(test_samples)"
      ],
      "execution_count": null,
      "outputs": []
    },
    {
      "cell_type": "code",
      "metadata": {
        "colab": {
          "base_uri": "https://localhost:8080/",
          "height": 206
        },
        "id": "H8FtjHiqzU0N",
        "outputId": "8361d4c5-01f5-4828-f896-e7caf426ddd2"
      },
      "source": [
        "train_df.head()"
      ],
      "execution_count": null,
      "outputs": [
        {
          "output_type": "execute_result",
          "data": {
            "text/html": [
              "<div>\n",
              "<style scoped>\n",
              "    .dataframe tbody tr th:only-of-type {\n",
              "        vertical-align: middle;\n",
              "    }\n",
              "\n",
              "    .dataframe tbody tr th {\n",
              "        vertical-align: top;\n",
              "    }\n",
              "\n",
              "    .dataframe thead th {\n",
              "        text-align: right;\n",
              "    }\n",
              "</style>\n",
              "<table border=\"1\" class=\"dataframe\">\n",
              "  <thead>\n",
              "    <tr style=\"text-align: right;\">\n",
              "      <th></th>\n",
              "      <th>target</th>\n",
              "      <th>text</th>\n",
              "      <th>line_number</th>\n",
              "      <th>total_lines</th>\n",
              "    </tr>\n",
              "  </thead>\n",
              "  <tbody>\n",
              "    <tr>\n",
              "      <th>0</th>\n",
              "      <td>BACKGROUND</td>\n",
              "      <td>the emergence of hiv as a chronic condition me...</td>\n",
              "      <td>0</td>\n",
              "      <td>10</td>\n",
              "    </tr>\n",
              "    <tr>\n",
              "      <th>1</th>\n",
              "      <td>BACKGROUND</td>\n",
              "      <td>this paper describes the design and evaluation...</td>\n",
              "      <td>1</td>\n",
              "      <td>10</td>\n",
              "    </tr>\n",
              "    <tr>\n",
              "      <th>2</th>\n",
              "      <td>METHODS</td>\n",
              "      <td>this study is designed as a randomised control...</td>\n",
              "      <td>2</td>\n",
              "      <td>10</td>\n",
              "    </tr>\n",
              "    <tr>\n",
              "      <th>3</th>\n",
              "      <td>METHODS</td>\n",
              "      <td>the intervention group will participate in the...</td>\n",
              "      <td>3</td>\n",
              "      <td>10</td>\n",
              "    </tr>\n",
              "    <tr>\n",
              "      <th>4</th>\n",
              "      <td>METHODS</td>\n",
              "      <td>the program is based on self-efficacy theory a...</td>\n",
              "      <td>4</td>\n",
              "      <td>10</td>\n",
              "    </tr>\n",
              "  </tbody>\n",
              "</table>\n",
              "</div>"
            ],
            "text/plain": [
              "       target  ... total_lines\n",
              "0  BACKGROUND  ...          10\n",
              "1  BACKGROUND  ...          10\n",
              "2     METHODS  ...          10\n",
              "3     METHODS  ...          10\n",
              "4     METHODS  ...          10\n",
              "\n",
              "[5 rows x 4 columns]"
            ]
          },
          "metadata": {
            "tags": []
          },
          "execution_count": 6
        }
      ]
    },
    {
      "cell_type": "code",
      "metadata": {
        "colab": {
          "base_uri": "https://localhost:8080/"
        },
        "id": "udm5-hkky3HD",
        "outputId": "60fe796c-2286-495f-e4d8-e896685d65c3"
      },
      "source": [
        "train_df.target.value_counts()"
      ],
      "execution_count": null,
      "outputs": [
        {
          "output_type": "execute_result",
          "data": {
            "text/plain": [
              "RESULTS        766271\n",
              "METHODS        722586\n",
              "CONCLUSIONS    339714\n",
              "BACKGROUND     196689\n",
              "OBJECTIVE      186601\n",
              "Name: target, dtype: int64"
            ]
          },
          "metadata": {
            "tags": []
          },
          "execution_count": 7
        }
      ]
    },
    {
      "cell_type": "code",
      "metadata": {
        "colab": {
          "base_uri": "https://localhost:8080/",
          "height": 276
        },
        "id": "knEozKKczRAt",
        "outputId": "22a16934-02cd-4d3b-ee49-545835ae3c42"
      },
      "source": [
        "train_df.total_lines.plot.hist();"
      ],
      "execution_count": null,
      "outputs": [
        {
          "output_type": "display_data",
          "data": {
            "image/png": "[encoded data removed]",
            "text/plain": [
              "<Figure size 432x288 with 1 Axes>"
            ]
          },
          "metadata": {
            "tags": [],
            "needs_background": "light"
          }
        }
      ]
    },
    {
      "cell_type": "markdown",
      "metadata": {
        "id": "tQy7YuPGzedl"
      },
      "source": [
        "It seems like length of most of the abstracts are between 7 and 17."
      ]
    },
    {
      "cell_type": "markdown",
      "metadata": {
        "id": "0fC0fxfR58s9"
      },
      "source": [
        "## Creating Datasets"
      ]
    },
    {
      "cell_type": "markdown",
      "metadata": {
        "id": "bftAIHaXy5Fj"
      },
      "source": [
        "### Converting data to numeric labels"
      ]
    },
    {
      "cell_type": "code",
      "metadata": {
        "id": "BrLFsnL21Z0x"
      },
      "source": [
        "# Create one-hot-encoded tensors of \"target\" column\n",
        "\n",
        "from sklearn.preprocessing import OneHotEncoder\n",
        "ohe = OneHotEncoder(sparse=False)\n",
        "\n",
        "train_labels_one_hot = ohe.fit_transform(train_df[\"target\"].to_numpy().reshape(-1, 1))\n",
        "val_labels_one_hot = ohe.transform(val_df[\"target\"].to_numpy().reshape(-1, 1))\n",
        "test_labels_one_hot = ohe.transform(test_df[\"target\"].to_numpy().reshape(-1, 1))"
      ],
      "execution_count": null,
      "outputs": []
    },
    {
      "cell_type": "code",
      "metadata": {
        "colab": {
          "base_uri": "https://localhost:8080/",
          "height": 276
        },
        "id": "gGZ9kHzN2kBP",
        "outputId": "7cc213bd-1cd4-428a-b345-d12e4ffd7a5f"
      },
      "source": [
        "train_df.line_number.plot.hist();"
      ],
      "execution_count": null,
      "outputs": [
        {
          "output_type": "display_data",
          "data": {
            "image/png": "[encoded data removed]",
            "text/plain": [
              "<Figure size 432x288 with 1 Axes>"
            ]
          },
          "metadata": {
            "tags": [],
            "needs_background": "light"
          }
        }
      ]
    },
    {
      "cell_type": "code",
      "metadata": {
        "id": "Vugq2ola0mQ9"
      },
      "source": [
        "# Create one-hot-encoded tensors of \"line_number\" column\n",
        "\n",
        "import tensorflow as tf\n",
        "\n",
        "train_line_numbers_one_hot = tf.one_hot(train_df[\"line_number\"].to_numpy(), depth=15)\n",
        "val_line_numbers_one_hot = tf.one_hot(val_df[\"line_number\"].to_numpy(), depth=15)\n",
        "test_line_numbers_one_hot = tf.one_hot(test_df[\"line_number\"].to_numpy(), depth=15)"
      ],
      "execution_count": null,
      "outputs": []
    },
    {
      "cell_type": "code",
      "metadata": {
        "colab": {
          "base_uri": "https://localhost:8080/",
          "height": 276
        },
        "id": "q5_abmLt6Ryf",
        "outputId": "514dc22d-701d-40d5-9b21-0f35050f529d"
      },
      "source": [
        "\n",
        "train_df.total_lines.plot.hist();"
      ],
      "execution_count": null,
      "outputs": [
        {
          "output_type": "display_data",
          "data": {
            "image/png": "[encoded data removed]",
            "text/plain": [
              "<Figure size 432x288 with 1 Axes>"
            ]
          },
          "metadata": {
            "tags": [],
            "needs_background": "light"
          }
        }
      ]
    },
    {
      "cell_type": "code",
      "metadata": {
        "colab": {
          "base_uri": "https://localhost:8080/"
        },
        "id": "IwLPpI4e6Tvi",
        "outputId": "690f189e-e038-4c34-ebe4-344de5d10e86"
      },
      "source": [
        "import numpy as np\n",
        "\n",
        "np.percentile(train_df.total_lines, 98)"
      ],
      "execution_count": null,
      "outputs": [
        {
          "output_type": "execute_result",
          "data": {
            "text/plain": [
              "20.0"
            ]
          },
          "metadata": {
            "tags": []
          },
          "execution_count": 13
        }
      ]
    },
    {
      "cell_type": "code",
      "metadata": {
        "id": "dusKr-bU6VfY"
      },
      "source": [
        "# Create one-hot-encoded tensors of \"total_lines\" column\n",
        "\n",
        "train_total_lines_one_hot = tf.one_hot(train_df[\"total_lines\"].to_numpy(), depth=20)\n",
        "val_total_lines_one_hot = tf.one_hot(val_df[\"total_lines\"].to_numpy(), depth=20)\n",
        "test_total_lines_one_hot = tf.one_hot(test_df[\"total_lines\"].to_numpy(), depth=20)"
      ],
      "execution_count": null,
      "outputs": []
    },
    {
      "cell_type": "markdown",
      "metadata": {
        "id": "rtuqFLHc6wYU"
      },
      "source": [
        "### Converting abstract lines to lists"
      ]
    },
    {
      "cell_type": "code",
      "metadata": {
        "colab": {
          "base_uri": "https://localhost:8080/"
        },
        "id": "Pm1FQ2eA625r",
        "outputId": "78a1577d-abee-46ee-9b8d-6e861763e041"
      },
      "source": [
        "# Convert abstract text lines into lists of sentences\n",
        "train_sentences = train_df[\"text\"].tolist()\n",
        "val_sentences = val_df[\"text\"].tolist()\n",
        "test_sentences = test_df[\"text\"].tolist()\n",
        "len(train_sentences), len(val_sentences), len(test_sentences)"
      ],
      "execution_count": null,
      "outputs": [
        {
          "output_type": "execute_result",
          "data": {
            "text/plain": [
              "(2211861, 28932, 29493)"
            ]
          },
          "metadata": {
            "tags": []
          },
          "execution_count": 15
        }
      ]
    },
    {
      "cell_type": "code",
      "metadata": {
        "id": "4R-NUaMFDNl_"
      },
      "source": [
        "char_lens = [len(sentence) for sentence in train_sentences]\n",
        "char_len = int(np.percentile(char_lens, 95))"
      ],
      "execution_count": null,
      "outputs": []
    },
    {
      "cell_type": "code",
      "metadata": {
        "id": "qYqf3VA465Kb"
      },
      "source": [
        "# Convert abstract text sentences into lists of characters\n",
        "\n",
        "def split_chars(text):\n",
        "  return \" \".join(list(text))\n",
        "  \n",
        "train_chars = [split_chars(sentence) for sentence in train_sentences]\n",
        "val_chars = [split_chars(sentence) for sentence in val_sentences]\n",
        "test_chars = [split_chars(sentence) for sentence in test_sentences]"
      ],
      "execution_count": null,
      "outputs": []
    },
    {
      "cell_type": "markdown",
      "metadata": {
        "id": "TCtfTE_h7f5Q"
      },
      "source": [
        "### Creating Tensor Datasets"
      ]
    },
    {
      "cell_type": "code",
      "metadata": {
        "id": "Vj-tg8YO8EdE"
      },
      "source": [
        "# Train Dataset\n",
        "train_input = tf.data.Dataset.from_tensor_slices((train_line_numbers_one_hot,\n",
        "                                                  train_total_lines_one_hot,\n",
        "                                                  train_sentences,\n",
        "                                                  train_chars))\n",
        "train_labels = tf.data.Dataset.from_tensor_slices(train_labels_one_hot)\n",
        "train_dataset = tf.data.Dataset.zip((train_input, train_labels)).batch(32).prefetch(tf.data.AUTOTUNE)"
      ],
      "execution_count": null,
      "outputs": []
    },
    {
      "cell_type": "code",
      "metadata": {
        "id": "QYQqcVPS8hoF"
      },
      "source": [
        "# Val Dataset\n",
        "val_input = tf.data.Dataset.from_tensor_slices((val_line_numbers_one_hot,\n",
        "                                                val_total_lines_one_hot,\n",
        "                                                val_sentences,\n",
        "                                                val_chars))\n",
        "val_labels = tf.data.Dataset.from_tensor_slices(val_labels_one_hot)\n",
        "val_dataset = tf.data.Dataset.zip((val_input, val_labels)).batch(32).prefetch(tf.data.AUTOTUNE)"
      ],
      "execution_count": null,
      "outputs": []
    },
    {
      "cell_type": "code",
      "metadata": {
        "id": "Zw308bE68z59"
      },
      "source": [
        "# Test Dataset\n",
        "test_input = tf.data.Dataset.from_tensor_slices((test_line_numbers_one_hot,\n",
        "                                                 test_total_lines_one_hot,\n",
        "                                                 test_sentences,\n",
        "                                                 test_chars))\n",
        "test_dataset = test_input.batch(32).prefetch(tf.data.AUTOTUNE)"
      ],
      "execution_count": null,
      "outputs": []
    },
    {
      "cell_type": "markdown",
      "metadata": {
        "id": "pfu-08kE0IyL"
      },
      "source": [
        "## Model"
      ]
    },
    {
      "cell_type": "markdown",
      "metadata": {
        "id": "R-7-QQXPDzT9"
      },
      "source": [
        "### Creating layers"
      ]
    },
    {
      "cell_type": "code",
      "metadata": {
        "id": "0WzjMKeDB54c"
      },
      "source": [
        "import string\n",
        "alphabet = string.ascii_lowercase + string.digits + string.punctuation\n",
        "\n",
        "char_lens = [len(sentence) for sentence in train_sentences]\n",
        "char_len = int(np.percentile(char_lens, 95))"
      ],
      "execution_count": null,
      "outputs": []
    },
    {
      "cell_type": "code",
      "metadata": {
        "id": "_fLPqEaS9RYY"
      },
      "source": [
        "import tensorflow_hub as hub\n",
        "from tensorflow.keras.layers.experimental.preprocessing import TextVectorization\n",
        "\n",
        "# Embedding Layer\n",
        "embedding_layer = hub.KerasLayer(\"https://tfhub.dev/google/universal-sentence-encoder/4\",\n",
        "                                 trainable=False,\n",
        "                                 name=\"USE\")"
      ],
      "execution_count": null,
      "outputs": []
    },
    {
      "cell_type": "code",
      "metadata": {
        "id": "DATtwyMiGjX4"
      },
      "source": [
        "# Character Vectorizer\n",
        "char_vectorizer = TextVectorization(max_tokens = len(alphabet)+2,\n",
        "                                    output_sequence_length = char_len,\n",
        "                                    standardize = \"lower_and_strip_punctuation\",\n",
        "                                    name = \"char_vectorizer\")"
      ],
      "execution_count": null,
      "outputs": []
    },
    {
      "cell_type": "code",
      "metadata": {
        "id": "UcvMB7BjO4pE"
      },
      "source": [
        "char_vectorizer.adapt(train_chars[:500000])\n",
        "char_vectorizer.adapt(train_chars[500000:1000000])\n",
        "char_vectorizer.adapt(train_chars[1000000:1500000])\n",
        "char_vectorizer.adapt(train_chars[1500000:2000000])\n",
        "char_vectorizer.adapt(train_chars[2000000:])"
      ],
      "execution_count": null,
      "outputs": []
    },
    {
      "cell_type": "code",
      "metadata": {
        "id": "1Dh7v5IvSzFb"
      },
      "source": [
        "# Character Embedding\n",
        "char_embed = tf.keras.layers.Embedding(input_dim=len(alphabet) + 2,\n",
        "                              output_dim=25,\n",
        "                              mask_zero=True,\n",
        "                              name=\"char_embed\")"
      ],
      "execution_count": null,
      "outputs": []
    },
    {
      "cell_type": "markdown",
      "metadata": {
        "id": "qaaY9EpKDmot"
      },
      "source": [
        "### Model Architecture"
      ]
    },
    {
      "cell_type": "code",
      "metadata": {
        "id": "VBUpkE8CD4lt"
      },
      "source": [
        "from tensorflow.keras import layers\n",
        "\n",
        "# Sentence Inputs\n",
        "sentence_inputs = layers.Input(shape=[], dtype=\"string\", name=\"sentence_inputs\")\n",
        "sentence_embeddings = embedding_layer(sentence_inputs)\n",
        "sentence_outputs = layers.Dense(128, activation=\"relu\")(sentence_embeddings)\n",
        "sentence_model = tf.keras.Model(inputs=sentence_inputs,\n",
        "                                outputs=sentence_embeddings)\n",
        "\n",
        "# Character Inputs\n",
        "character_inputs = layers.Input(shape=(1,), dtype=\"string\", name=\"character_inputs\")\n",
        "character_vectors = char_vectorizer(character_inputs)\n",
        "character_embeddings = char_embed(character_vectors)\n",
        "character_outputs = layers.Bidirectional(layers.LSTM(32))(character_embeddings)\n",
        "character_model = tf.keras.Model(inputs=character_inputs,\n",
        "                                 outputs=character_outputs)\n",
        "\n",
        "# Line Number Inputs\n",
        "line_number_inputs = layers.Input(shape=(15,), dtype=tf.int32, name=\"line_number_input\")\n",
        "line_number_outputs = layers.Dense(32, activation=\"relu\")(line_number_inputs)\n",
        "line_number_model = tf.keras.Model(inputs=line_number_inputs,\n",
        "                                   outputs=line_number_outputs)\n",
        "\n",
        "# Total Lines Inputs\n",
        "total_lines_inputs = layers.Input(shape=(20,), dtype=tf.int32, name=\"total_lines_input\")\n",
        "total_lines_outputs = layers.Dense(32, activation=\"relu\")(total_lines_inputs)\n",
        "total_lines_model = tf.keras.Model(inputs=total_lines_inputs,\n",
        "                                   outputs=total_lines_outputs)\n",
        "\n",
        "# Sentence and Character Hybrid Embedding\n",
        "sentence_character_hybrid = layers.Concatenate(name=\"sentence_character_hybrid\")([sentence_model.output, character_model.output])\n",
        "hidden_layer = layers.Dense(256, activation=\"relu\")(sentence_character_hybrid)\n",
        "hidden_layer = layers.Dropout(0.5)(hidden_layer)\n",
        "\n",
        "# Combine Line Number, Total Lines and Last Hidden Layer\n",
        "\n",
        "mega_layer = layers.Concatenate(name=\"mega_layer\")([line_number_model.output,\n",
        "                                                    total_lines_model.output,\n",
        "                                                    hidden_layer])\n",
        "\n",
        "# Output Layer\n",
        "output_layer = layers.Dense(5, activation=\"softmax\", name=\"output_layer\")(mega_layer)\n",
        "\n",
        "# Model\n",
        "model = tf.keras.Model(inputs=[line_number_model.input,\n",
        "                               total_lines_model.input,\n",
        "                               sentence_model.input,\n",
        "                               character_model.input],\n",
        "                       outputs=output_layer)"
      ],
      "execution_count": null,
      "outputs": []
    },
    {
      "cell_type": "code",
      "metadata": {
        "colab": {
          "base_uri": "https://localhost:8080/",
          "height": 856
        },
        "id": "-iyv0nU0FCw3",
        "outputId": "2c0d50c9-466b-46c0-c2e1-87dbe2d36993"
      },
      "source": [
        "tf.keras.utils.plot_model(model)"
      ],
      "execution_count": null,
      "outputs": [
        {
          "output_type": "execute_result",
          "data": {
            "image/png": "[encoded data removed]",
            "text/plain": [
              "<IPython.core.display.Image object>"
            ]
          },
          "metadata": {
            "tags": []
          },
          "execution_count": 76
        }
      ]
    },
    {
      "cell_type": "markdown",
      "metadata": {
        "id": "raY4iomgYa5n"
      },
      "source": [
        "### Compiling the Model"
      ]
    },
    {
      "cell_type": "code",
      "metadata": {
        "id": "dcavyBIuTi6M"
      },
      "source": [
        "# Compile the model\n",
        "model.compile(loss=tf.keras.losses.CategoricalCrossentropy(label_smoothing=0.2),\n",
        "              optimizer=tf.keras.optimizers.Adam(),\n",
        "              metrics=[\"accuracy\"])"
      ],
      "execution_count": null,
      "outputs": []
    },
    {
      "cell_type": "markdown",
      "metadata": {
        "id": "NrpMJ3f9Uwzt"
      },
      "source": [
        "### Fitting the Model"
      ]
    },
    {
      "cell_type": "code",
      "metadata": {
        "colab": {
          "base_uri": "https://localhost:8080/"
        },
        "id": "e9eGb5lUUzJe",
        "outputId": "34b9c291-03fa-4035-ad30-6a606dbc1c1c"
      },
      "source": [
        "history = model.fit(train_dataset,\n",
        "                    steps_per_epoch=int(0.1*len(train_dataset)),\n",
        "                    epochs=3,\n",
        "                    validation_data=val_dataset,\n",
        "                    validation_steps=int(0.1*len(val_dataset)))"
      ],
      "execution_count": null,
      "outputs": [
        {
          "output_type": "stream",
          "text": [
            "Epoch 1/3\n",
            "6912/6912 [==============================] - 324s 45ms/step - loss: 0.9509 - accuracy: 0.8262 - val_loss: 0.9168 - val_accuracy: 0.8549\n",
            "Epoch 2/3\n",
            "6912/6912 [==============================] - 295s 43ms/step - loss: 0.9215 - accuracy: 0.8478 - val_loss: 0.9058 - val_accuracy: 0.8608\n",
            "Epoch 3/3\n",
            "6912/6912 [==============================] - 296s 43ms/step - loss: 0.9168 - accuracy: 0.8514 - val_loss: 0.9001 - val_accuracy: 0.8642\n"
          ],
          "name": "stdout"
        }
      ]
    },
    {
      "cell_type": "markdown",
      "metadata": {
        "id": "8KU5QdDWEf4p"
      },
      "source": [
        "Due to the lack of GPU, i've only trained for 3 epochs. You can expect better results by training for more epochs and adding callbacks."
      ]
    },
    {
      "cell_type": "markdown",
      "metadata": {
        "id": "UOp6Zs6JcvQZ"
      },
      "source": [
        "## Plotting Graphs"
      ]
    },
    {
      "cell_type": "code",
      "metadata": {
        "id": "yxozMFPUcX5r"
      },
      "source": [
        "import matplotlib.pyplot as plt"
      ],
      "execution_count": null,
      "outputs": []
    },
    {
      "cell_type": "code",
      "metadata": {
        "colab": {
          "base_uri": "https://localhost:8080/",
          "height": 573
        },
        "id": "bs62WpQZcqwL",
        "outputId": "ebc5a602-4fb6-4efb-e1fe-c6c2e82c2f93"
      },
      "source": [
        "# summarize history for accuracy\n",
        "plt.plot(history.history['accuracy'])\n",
        "plt.plot(history.history['val_accuracy'])\n",
        "plt.title('model accuracy')\n",
        "plt.ylabel('accuracy')\n",
        "plt.xlabel('epoch')\n",
        "plt.legend(['train', 'test'], loc='upper left')\n",
        "plt.show()\n",
        "# summarize history for loss\n",
        "plt.plot(history.history['loss'])\n",
        "plt.plot(history.history['val_loss'])\n",
        "plt.title('model loss')\n",
        "plt.ylabel('loss')\n",
        "plt.xlabel('epoch')\n",
        "plt.legend(['train', 'test'], loc='upper left')\n",
        "plt.show()"
      ],
      "execution_count": null,
      "outputs": [
        {
          "output_type": "display_data",
          "data": {
            "image/png": "[encoded data removed]",
            "text/plain": [
              "<Figure size 432x288 with 1 Axes>"
            ]
          },
          "metadata": {
            "tags": [],
            "needs_background": "light"
          }
        },
        {
          "output_type": "display_data",
          "data": {
            "image/png": "[encoded data removed]",
            "text/plain": [
              "<Figure size 432x288 with 1 Axes>"
            ]
          },
          "metadata": {
            "tags": [],
            "needs_background": "light"
          }
        }
      ]
    }
  ]
}